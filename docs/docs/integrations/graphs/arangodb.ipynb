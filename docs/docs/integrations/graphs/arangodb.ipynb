{
 "cells": [
  {
   "cell_type": "markdown",
   "id": "c94240f5",
   "metadata": {
    "id": "c94240f5"
   },
   "source": [
    "# ArangoDB\n",
    "\n",
    "[![Open In Colab](https://colab.research.google.com/assets/colab-badge.svg)](https://colab.research.google.com/github/arangodb/interactive_tutorials/blob/master/notebooks/Langchain.ipynb)\n",
    "\n",
    ">[ArangoDB](https://github.com/arangodb/arangodb) is a scalable graph database system to drive value from\n",
    ">connected data, faster. Native graphs, an integrated search engine, and JSON support, via\n",
    ">a single query language. `ArangoDB` runs on-prem or in the cloud.\n",
    "\n",
    "This notebook shows how to use LLMs to provide a natural language interface to an [ArangoDB](https://github.com/arangodb/arangodb#readme) database."
   ]
  },
  {
   "cell_type": "markdown",
   "id": "dbc0ee68",
   "metadata": {
    "id": "dbc0ee68"
   },
   "source": [
    "## Setting up\n",
    "\n",
    "You can get a local `ArangoDB` instance running via the [ArangoDB Docker image](https://hub.docker.com/_/arangodb):  \n",
    "\n",
    "```\n",
    "docker run -p 8529:8529 -e ARANGO_ROOT_PASSWORD= arangodb/arangodb\n",
    "```\n",
    "\n",
    "An alternative is to use the [ArangoDB Cloud Connector package](https://github.com/arangodb/adb-cloud-connector#readme) to get a temporary cloud instance running:"
   ]
  },
  {
   "cell_type": "code",
   "execution_count": 1,
   "id": "007a0160-d101-45a4-af63-29435f651aee",
   "metadata": {
    "id": "007a0160-d101-45a4-af63-29435f651aee"
   },
   "outputs": [],
   "source": [
    "import os\n",
    "\n",
    "os.environ[\"OPENAI_API_KEY\"] = \"your-api-key\""
   ]
  },
  {
   "cell_type": "code",
   "execution_count": null,
   "id": "izi6YoFC8KRH",
   "metadata": {
    "id": "izi6YoFC8KRH",
    "scrolled": true
   },
   "outputs": [],
   "source": [
    "%%capture\n",
    "!pip install python-arango # The ArangoDB Python Driver\n",
    "!pip install adb-cloud-connector # The ArangoDB Cloud Instance provisioner\n",
    "!pip install cityhash # Hashing library\n",
    "!pip install langchain-community\n",
    "!pip install langchain-openai\n",
    "!pip install langchain-experimental\n",
    "!pip install langchain"
   ]
  },
  {
   "cell_type": "code",
   "execution_count": 3,
   "id": "62812aad",
   "metadata": {
    "colab": {
     "base_uri": "https://localhost:8080/"
    },
    "id": "62812aad",
    "outputId": "f500a334-ba7e-47f5-d694-71bd7417067c"
   },
   "outputs": [
    {
     "name": "stdout",
     "output_type": "stream",
     "text": [
      "Log: requesting new credentials...\n",
      "Succcess: new credentials acquired\n",
      "{\n",
      "  \"dbName\": \"TUTup9uhyabp5ney7pmxmmikl\",\n",
      "  \"username\": \"TUT97khupg72t8o5f05gj6nb\",\n",
      "  \"password\": \"TUTc1f3w36oj8mqkdpf5ofuor\",\n",
      "  \"hostname\": \"tutorials.arangodb.cloud\",\n",
      "  \"port\": 8529,\n",
      "  \"url\": \"https://tutorials.arangodb.cloud:8529\"\n",
      "}\n"
     ]
    }
   ],
   "source": [
    "# Instantiate ArangoDB Database\n",
    "import json\n",
    "\n",
    "from adb_cloud_connector import get_temp_credentials\n",
    "from arango import ArangoClient\n",
    "\n",
    "con = get_temp_credentials()\n",
    "\n",
    "db = ArangoClient(hosts=con[\"url\"]).db(\n",
    "    con[\"dbName\"], con[\"username\"], con[\"password\"], verify=True\n",
    ")\n",
    "\n",
    "print(json.dumps(con, indent=2))"
   ]
  },
  {
   "cell_type": "code",
   "execution_count": 4,
   "id": "0928915d",
   "metadata": {
    "id": "0928915d"
   },
   "outputs": [],
   "source": [
    "# Instantiate the ArangoDB-LangChain Graph\n",
    "from langchain_community.graphs import ArangoGraph\n",
    "\n",
    "graph = ArangoGraph(db)"
   ]
  },
  {
   "cell_type": "markdown",
   "id": "995ea9b9",
   "metadata": {
    "id": "995ea9b9"
   },
   "source": [
    "## Populating database\n",
    "\n",
    "We will rely on the `Python Driver` to import our [GameOfThrones](https://github.com/arangodb/example-datasets/tree/master/GameOfThrones) data into our database."
   ]
  },
  {
   "cell_type": "code",
   "execution_count": 5,
   "id": "fedd26b9",
   "metadata": {
    "colab": {
     "base_uri": "https://localhost:8080/"
    },
    "id": "fedd26b9",
    "outputId": "1b1cf328-369d-4403-91a4-77ea3b3eb91d"
   },
   "outputs": [
    {
     "data": {
      "text/plain": [
       "{'error': False,\n",
       " 'created': 4,\n",
       " 'errors': 0,\n",
       " 'empty': 0,\n",
       " 'updated': 0,\n",
       " 'ignored': 0,\n",
       " 'details': []}"
      ]
     },
     "execution_count": 5,
     "metadata": {},
     "output_type": "execute_result"
    }
   ],
   "source": [
    "if db.has_graph(\"GameOfThrones\"):\n",
    "    db.delete_graph(\"GameOfThrones\", drop_collections=True)\n",
    "\n",
    "db.create_graph(\n",
    "    \"GameOfThrones\",\n",
    "    edge_definitions=[\n",
    "        {\n",
    "            \"edge_collection\": \"ChildOf\",\n",
    "            \"from_vertex_collections\": [\"Characters\"],\n",
    "            \"to_vertex_collections\": [\"Characters\"],\n",
    "        },\n",
    "    ],\n",
    ")\n",
    "\n",
    "documents = [\n",
    "    {\n",
    "        \"_key\": \"NedStark\",\n",
    "        \"name\": \"Ned\",\n",
    "        \"surname\": \"Stark\",\n",
    "        \"alive\": True,\n",
    "        \"age\": 41,\n",
    "        \"gender\": \"male\",\n",
    "    },\n",
    "    {\n",
    "        \"_key\": \"CatelynStark\",\n",
    "        \"name\": \"Catelyn\",\n",
    "        \"surname\": \"Stark\",\n",
    "        \"alive\": False,\n",
    "        \"age\": 40,\n",
    "        \"gender\": \"female\",\n",
    "    },\n",
    "    {\n",
    "        \"_key\": \"AryaStark\",\n",
    "        \"name\": \"Arya\",\n",
    "        \"surname\": \"Stark\",\n",
    "        \"alive\": True,\n",
    "        \"age\": 11,\n",
    "        \"gender\": \"female\",\n",
    "    },\n",
    "    {\n",
    "        \"_key\": \"BranStark\",\n",
    "        \"name\": \"Bran\",\n",
    "        \"surname\": \"Stark\",\n",
    "        \"alive\": True,\n",
    "        \"age\": 10,\n",
    "        \"gender\": \"male\",\n",
    "    },\n",
    "]\n",
    "\n",
    "edges = [\n",
    "    {\"_to\": \"Characters/NedStark\", \"_from\": \"Characters/AryaStark\"},\n",
    "    {\"_to\": \"Characters/NedStark\", \"_from\": \"Characters/BranStark\"},\n",
    "    {\"_to\": \"Characters/CatelynStark\", \"_from\": \"Characters/AryaStark\"},\n",
    "    {\"_to\": \"Characters/CatelynStark\", \"_from\": \"Characters/BranStark\"},\n",
    "]\n",
    "\n",
    "db.collection(\"Characters\").import_bulk(documents)\n",
    "db.collection(\"ChildOf\").import_bulk(edges)"
   ]
  },
  {
   "cell_type": "markdown",
   "id": "58c1a8ea",
   "metadata": {
    "id": "58c1a8ea"
   },
   "source": [
    "## Getting and setting the ArangoDB schema\n",
    "\n",
    "An initial `ArangoDB Schema` is generated upon instantiating the `ArangoDBGraph` object. Below are the schema's getter & setter methods should you be interested in viewing or modifying the schema:"
   ]
  },
  {
   "cell_type": "code",
   "execution_count": 6,
   "id": "4e3de44f",
   "metadata": {
    "colab": {
     "base_uri": "https://localhost:8080/"
    },
    "id": "4e3de44f",
    "outputId": "667af64f-cb21-4480-c542-d11f117be62a"
   },
   "outputs": [
    {
     "name": "stdout",
     "output_type": "stream",
     "text": [
      "{\n",
      "    \"graph_schema\": [],\n",
      "    \"collection_schema\": []\n",
      "}\n"
     ]
    }
   ],
   "source": [
    "# The schema should be empty here,\n",
    "# since `graph` was initialized prior to ArangoDB Data ingestion (see above).\n",
    "\n",
    "import json\n",
    "\n",
    "print(json.dumps(graph.schema, indent=4))"
   ]
  },
  {
   "cell_type": "code",
   "execution_count": 7,
   "id": "1fe76ccd",
   "metadata": {
    "id": "1fe76ccd"
   },
   "outputs": [],
   "source": [
    "graph.set_schema(graph.generate_schema())"
   ]
  },
  {
   "cell_type": "code",
   "execution_count": 8,
   "id": "mZ679anj_-Er",
   "metadata": {
    "colab": {
     "base_uri": "https://localhost:8080/"
    },
    "id": "mZ679anj_-Er",
    "outputId": "636c9022-4953-492d-8a35-135a21799314"
   },
   "outputs": [
    {
     "name": "stdout",
     "output_type": "stream",
     "text": [
      "{\n",
      "    \"graph_schema\": [\n",
      "        {\n",
      "            \"graph_name\": \"GameOfThrones\",\n",
      "            \"edge_definitions\": [\n",
      "                {\n",
      "                    \"edge_collection\": \"ChildOf\",\n",
      "                    \"from_vertex_collections\": [\n",
      "                        \"Characters\"\n",
      "                    ],\n",
      "                    \"to_vertex_collections\": [\n",
      "                        \"Characters\"\n",
      "                    ]\n",
      "                }\n",
      "            ]\n",
      "        }\n",
      "    ],\n",
      "    \"collection_schema\": [\n",
      "        {\n",
      "            \"name\": \"Characters\",\n",
      "            \"type\": \"document\",\n",
      "            \"size\": 4,\n",
      "            \"properties\": [\n",
      "                {\n",
      "                    \"name\": \"_key\",\n",
      "                    \"type\": \"str\"\n",
      "                },\n",
      "                {\n",
      "                    \"name\": \"_id\",\n",
      "                    \"type\": \"str\"\n",
      "                },\n",
      "                {\n",
      "                    \"name\": \"_rev\",\n",
      "                    \"type\": \"str\"\n",
      "                },\n",
      "                {\n",
      "                    \"name\": \"name\",\n",
      "                    \"type\": \"str\"\n",
      "                },\n",
      "                {\n",
      "                    \"name\": \"surname\",\n",
      "                    \"type\": \"str\"\n",
      "                },\n",
      "                {\n",
      "                    \"name\": \"alive\",\n",
      "                    \"type\": \"bool\"\n",
      "                },\n",
      "                {\n",
      "                    \"name\": \"age\",\n",
      "                    \"type\": \"int\"\n",
      "                },\n",
      "                {\n",
      "                    \"name\": \"gender\",\n",
      "                    \"type\": \"str\"\n",
      "                }\n",
      "            ],\n",
      "            \"example\": {\n",
      "                \"_key\": \"NedStark\",\n",
      "                \"_id\": \"Characters/NedStark\",\n",
      "                \"_rev\": \"_jRnIBeG---\",\n",
      "                \"name\": \"Ned\",\n",
      "                \"surname\": \"Stark\",\n",
      "                \"alive\": true,\n",
      "                \"age\": 41,\n",
      "                \"gender\": \"male\"\n",
      "            }\n",
      "        },\n",
      "        {\n",
      "            \"name\": \"ChildOf\",\n",
      "            \"type\": \"edge\",\n",
      "            \"size\": 4,\n",
      "            \"properties\": [\n",
      "                {\n",
      "                    \"name\": \"_key\",\n",
      "                    \"type\": \"str\"\n",
      "                },\n",
      "                {\n",
      "                    \"name\": \"_id\",\n",
      "                    \"type\": \"str\"\n",
      "                },\n",
      "                {\n",
      "                    \"name\": \"_from\",\n",
      "                    \"type\": \"str\"\n",
      "                },\n",
      "                {\n",
      "                    \"name\": \"_to\",\n",
      "                    \"type\": \"str\"\n",
      "                },\n",
      "                {\n",
      "                    \"name\": \"_rev\",\n",
      "                    \"type\": \"str\"\n",
      "                }\n",
      "            ],\n",
      "            \"example\": {\n",
      "                \"_key\": \"266276529490\",\n",
      "                \"_id\": \"ChildOf/266276529490\",\n",
      "                \"_from\": \"Characters/AryaStark\",\n",
      "                \"_to\": \"Characters/NedStark\",\n",
      "                \"_rev\": \"_jRnIBia---\"\n",
      "            }\n",
      "        }\n",
      "    ]\n",
      "}\n"
     ]
    }
   ],
   "source": [
    "# We can now view the generated schema\n",
    "\n",
    "import json\n",
    "\n",
    "print(json.dumps(graph.schema, indent=4))"
   ]
  },
  {
   "cell_type": "markdown",
   "id": "68a3c677",
   "metadata": {
    "id": "68a3c677"
   },
   "source": [
    "## Querying the ArangoDB database\n",
    "\n",
    "We can now use the `ArangoDB Graph` QA Chain to inquire about our data"
   ]
  },
  {
   "cell_type": "code",
   "execution_count": 9,
   "id": "7476ce98",
   "metadata": {
    "id": "7476ce98"
   },
   "outputs": [],
   "source": [
    "from langchain.chains import ArangoGraphQAChain\n",
    "from langchain_openai import ChatOpenAI\n",
    "\n",
    "chain = ArangoGraphQAChain.from_llm(\n",
    "    ChatOpenAI(temperature=0), graph=graph, verbose=True, allow_dangerous_requests=True\n",
    ")"
   ]
  },
  {
   "cell_type": "code",
   "execution_count": 10,
   "id": "ef8ee27b",
   "metadata": {
    "colab": {
     "base_uri": "https://localhost:8080/"
    },
    "id": "ef8ee27b",
    "outputId": "f460f045-89e9-4267-e637-19bdec87182f"
   },
   "outputs": [
    {
     "name": "stdout",
     "output_type": "stream",
     "text": [
      "\n",
      "\n",
      "\u001b[1m> Entering new ArangoGraphQAChain chain...\u001b[0m\n",
      "AQL Query (1):\u001b[32;1m\u001b[1;3m\n",
      "WITH Characters\n",
      "FOR character IN Characters\n",
      "FILTER character.name == 'Ned' && character.surname == 'Stark'\n",
      "RETURN character.alive\n",
      "\u001b[0m\n",
      "AQL Result:\n",
      "\u001b[32;1m\u001b[1;3m[True]\u001b[0m\n",
      "\n",
      "\u001b[1m> Finished chain.\u001b[0m\n"
     ]
    },
    {
     "data": {
      "text/plain": [
       "{'query': 'Is Ned Stark alive?',\n",
       " 'result': 'Based on the information retrieved from the database, Ned Stark is indeed alive.'}"
      ]
     },
     "execution_count": 10,
     "metadata": {},
     "output_type": "execute_result"
    }
   ],
   "source": [
    "chain.invoke(\"Is Ned Stark alive?\")"
   ]
  },
  {
   "cell_type": "code",
   "execution_count": 11,
   "id": "9CSig1BgA76q",
   "metadata": {
    "colab": {
     "base_uri": "https://localhost:8080/"
    },
    "id": "9CSig1BgA76q",
    "outputId": "364140e2-2410-479c-f498-017303910507"
   },
   "outputs": [
    {
     "name": "stdout",
     "output_type": "stream",
     "text": [
      "\n",
      "\n",
      "\u001b[1m> Entering new ArangoGraphQAChain chain...\u001b[0m\n",
      "AQL Query (1):\u001b[32;1m\u001b[1;3m\n",
      "WITH Characters\n",
      "FOR character IN Characters\n",
      "FILTER character.name == 'Arya' && character.surname == 'Stark'\n",
      "RETURN character.age\n",
      "\u001b[0m\n",
      "AQL Result:\n",
      "\u001b[32;1m\u001b[1;3m[11]\u001b[0m\n",
      "\n",
      "\u001b[1m> Finished chain.\u001b[0m\n"
     ]
    },
    {
     "data": {
      "text/plain": [
       "{'query': 'How old is Arya Stark?',\n",
       " 'result': 'Summary:\\nArya Stark is 11 years old according to the information stored in the ArangoDB database.'}"
      ]
     },
     "execution_count": 11,
     "metadata": {},
     "output_type": "execute_result"
    }
   ],
   "source": [
    "chain.invoke(\"How old is Arya Stark?\")"
   ]
  },
  {
   "cell_type": "code",
   "execution_count": 12,
   "id": "9Fzdic_pA_4y",
   "metadata": {
    "colab": {
     "base_uri": "https://localhost:8080/"
    },
    "id": "9Fzdic_pA_4y",
    "outputId": "fbec0b0d-e3d9-413c-8cb4-69ccddb7e9f7"
   },
   "outputs": [
    {
     "name": "stdout",
     "output_type": "stream",
     "text": [
      "\n",
      "\n",
      "\u001b[1m> Entering new ArangoGraphQAChain chain...\u001b[0m\n",
      "AQL Query (1):\u001b[32;1m\u001b[1;3m\n",
      "WITH Characters, ChildOf\n",
      "FOR v, e IN 1..1 OUTBOUND 'Characters/AryaStark' ChildOf\n",
      "    FILTER e._to == 'Characters/NedStark'\n",
      "    RETURN { related: true }\n",
      "\u001b[0m\n",
      "AQL Result:\n",
      "\u001b[32;1m\u001b[1;3m[{'related': True}]\u001b[0m\n",
      "\n",
      "\u001b[1m> Finished chain.\u001b[0m\n"
     ]
    },
    {
     "data": {
      "text/plain": [
       "{'query': 'Are Arya Stark and Ned Stark related?',\n",
       " 'result': 'Based on the information retrieved from the database, Arya Stark and Ned Stark are indeed related.'}"
      ]
     },
     "execution_count": 12,
     "metadata": {},
     "output_type": "execute_result"
    }
   ],
   "source": [
    "chain.invoke(\"Are Arya Stark and Ned Stark related?\")"
   ]
  },
  {
   "cell_type": "code",
   "execution_count": 13,
   "id": "zq_oeDpAOXpF",
   "metadata": {
    "colab": {
     "base_uri": "https://localhost:8080/"
    },
    "id": "zq_oeDpAOXpF",
    "outputId": "98672efb-8590-4a3f-f3f1-777f7eac81d5"
   },
   "outputs": [
    {
     "name": "stdout",
     "output_type": "stream",
     "text": [
      "\n",
      "\n",
      "\u001b[1m> Entering new ArangoGraphQAChain chain...\u001b[0m\n",
      "AQL Query (1):\u001b[32;1m\u001b[1;3m\n",
      "WITH Characters, ChildOf\n",
      "FOR v, e IN 1..1 OUTBOUND 'Characters/AryaStark' ChildOf\n",
      "    FILTER v.alive == false\n",
      "    RETURN v\n",
      "\u001b[0m\n",
      "AQL Result:\n",
      "\u001b[32;1m\u001b[1;3m[{'_key': 'CatelynStark', '_id': 'Characters/CatelynStark', '_rev': '_jRnIBeG--_', 'name': 'Catelyn', 'surname': 'Stark', 'alive': False, 'age': 40, 'gender': 'female'}]\u001b[0m\n",
      "\n",
      "\u001b[1m> Finished chain.\u001b[0m\n"
     ]
    },
    {
     "data": {
      "text/plain": [
       "{'query': 'Does Arya Stark have a dead parent?',\n",
       " 'result': \"Based on the information retrieved from the database, Arya Stark does have a deceased parent. Catelyn Stark, Arya's mother, is no longer alive according to the database records.\"}"
      ]
     },
     "execution_count": 13,
     "metadata": {},
     "output_type": "execute_result"
    }
   ],
   "source": [
    "chain.invoke(\"Does Arya Stark have a dead parent?\")"
   ]
  },
  {
   "cell_type": "markdown",
   "id": "Ob_3aGauGd7d",
   "metadata": {
    "id": "Ob_3aGauGd7d"
   },
   "source": [
    "### Chain modifiers"
   ]
  },
  {
   "cell_type": "markdown",
   "id": "3P490E2dGiBp",
   "metadata": {
    "id": "3P490E2dGiBp"
   },
   "source": [
    "You can alter the values of the following `ArangoDBGraphQAChain` class variables to modify the behaviour of your chain results\n"
   ]
  },
  {
   "cell_type": "code",
   "execution_count": 14,
   "id": "1B9h3PvzJ41T",
   "metadata": {
    "id": "1B9h3PvzJ41T"
   },
   "outputs": [],
   "source": [
    "# Specify the maximum number of AQL Query Results to return\n",
    "chain.top_k = 10\n",
    "\n",
    "# Specify whether or not to return the AQL Query in the output dictionary\n",
    "chain.return_aql_query = True\n",
    "\n",
    "# Specify whether or not to return the AQL JSON Result in the output dictionary\n",
    "chain.return_aql_result = True\n",
    "\n",
    "# Specify the maximum amount of AQL Generation attempts that should be made\n",
    "chain.max_aql_generation_attempts = 5\n",
    "\n",
    "# Specify a set of AQL Query Examples, which are passed to\n",
    "# the AQL Generation Prompt Template to promote few-shot-learning.\n",
    "# Defaults to an empty string.\n",
    "chain.aql_examples = \"\"\"\n",
    "# Is Ned Stark alive?\n",
    "RETURN DOCUMENT('Characters/NedStark').alive\n",
    "\n",
    "# Is Arya Stark the child of Ned Stark?\n",
    "FOR e IN ChildOf\n",
    "    FILTER e._from == \"Characters/AryaStark\" AND e._to == \"Characters/NedStark\"\n",
    "    RETURN e\n",
    "\"\"\""
   ]
  },
  {
   "cell_type": "code",
   "execution_count": 15,
   "id": "49cnjYV-PUv3",
   "metadata": {
    "colab": {
     "base_uri": "https://localhost:8080/"
    },
    "id": "49cnjYV-PUv3",
    "outputId": "c74b18e9-3081-44c1-ffcd-e4b1f47ab653"
   },
   "outputs": [
    {
     "name": "stdout",
     "output_type": "stream",
     "text": [
      "\n",
      "\n",
      "\u001b[1m> Entering new ArangoGraphQAChain chain...\u001b[0m\n",
      "AQL Query (1):\u001b[32;1m\u001b[1;3m\n",
      "RETURN DOCUMENT('Characters/NedStark').alive\n",
      "\u001b[0m\n",
      "AQL Result:\n",
      "\u001b[32;1m\u001b[1;3m[True]\u001b[0m\n",
      "\n",
      "\u001b[1m> Finished chain.\u001b[0m\n"
     ]
    },
    {
     "data": {
      "text/plain": [
       "{'query': 'Is Ned Stark alive?',\n",
       " 'result': 'Based on the information retrieved from the database, Ned Stark is indeed alive.',\n",
       " 'aql_query': \"\\nRETURN DOCUMENT('Characters/NedStark').alive\\n\",\n",
       " 'aql_result': [True]}"
      ]
     },
     "execution_count": 15,
     "metadata": {},
     "output_type": "execute_result"
    }
   ],
   "source": [
    "chain.invoke(\"Is Ned Stark alive?\")"
   ]
  },
  {
   "cell_type": "code",
   "execution_count": 16,
   "id": "nWfALJ8dPczE",
   "metadata": {
    "colab": {
     "base_uri": "https://localhost:8080/"
    },
    "id": "nWfALJ8dPczE",
    "outputId": "881d34ad-80e1-411e-d1ba-f01d048cef85"
   },
   "outputs": [
    {
     "name": "stdout",
     "output_type": "stream",
     "text": [
      "\n",
      "\n",
      "\u001b[1m> Entering new ArangoGraphQAChain chain...\u001b[0m\n",
      "AQL Query (1):\u001b[32;1m\u001b[1;3m\n",
      "FOR e IN ChildOf\n",
      "    FILTER e._from == \"Characters/BranStark\" AND e._to == \"Characters/NedStark\"\n",
      "    RETURN e\n",
      "\u001b[0m\n",
      "AQL Result:\n",
      "\u001b[32;1m\u001b[1;3m[{'_key': '266276529491', '_id': 'ChildOf/266276529491', '_from': 'Characters/BranStark', '_to': 'Characters/NedStark', '_rev': '_jRnIBia--_'}]\u001b[0m\n",
      "\n",
      "\u001b[1m> Finished chain.\u001b[0m\n"
     ]
    },
    {
     "data": {
      "text/plain": [
       "{'query': 'Is Bran Stark the child of Ned Stark?',\n",
       " 'result': 'Based on the information retrieved from the database, Bran Stark is indeed the child of Ned Stark. The relationship between them has been confirmed through the database query, showing that Bran Stark is linked to Ned Stark as his parent.',\n",
       " 'aql_query': '\\nFOR e IN ChildOf\\n    FILTER e._from == \"Characters/BranStark\" AND e._to == \"Characters/NedStark\"\\n    RETURN e\\n',\n",
       " 'aql_result': [{'_key': '266276529491',\n",
       "   '_id': 'ChildOf/266276529491',\n",
       "   '_from': 'Characters/BranStark',\n",
       "   '_to': 'Characters/NedStark',\n",
       "   '_rev': '_jRnIBia--_'}]}"
      ]
     },
     "execution_count": 16,
     "metadata": {},
     "output_type": "execute_result"
    }
   ],
   "source": [
    "chain.invoke(\"Is Bran Stark the child of Ned Stark?\")"
   ]
  },
  {
   "cell_type": "markdown",
   "id": "61ff110b-ddac-4b28-85e4-8c9c8092bac0",
   "metadata": {
    "id": "61ff110b-ddac-4b28-85e4-8c9c8092bac0"
   },
   "source": [
    "## Text to Graph in ArangoDB + Similarity Search\n"
   ]
  },
  {
   "cell_type": "markdown",
   "id": "c7af0fc6-e09e-4a68-9661-bc7eecf99976",
   "metadata": {
    "id": "c7af0fc6-e09e-4a68-9661-bc7eecf99976"
   },
   "source": [
    "We can combine `LLMGraphTransformer`, `ArangoGraph`, and `ArangoVector` to insert text data into ArangoDB as a Graph, and then perform similarity search on the graph's Chunk, Node, and Edge embeddings."
   ]
  },
  {
   "cell_type": "code",
   "execution_count": 17,
   "id": "4f3279dd-bf81-4bdc-9eab-0b918e919712",
   "metadata": {
    "id": "4f3279dd-bf81-4bdc-9eab-0b918e919712"
   },
   "outputs": [],
   "source": [
    "from langchain_openai import ChatOpenAI, OpenAIEmbeddings\n",
    "\n",
    "llm = ChatOpenAI(temperature=0)\n",
    "\n",
    "embeddings = embeddings = OpenAIEmbeddings(\n",
    "    model=\"text-embedding-3-small\",\n",
    "    dimensions=256,\n",
    ")"
   ]
  },
  {
   "cell_type": "code",
   "execution_count": 18,
   "id": "37fa87c1-e468-4699-be0d-7067d59df038",
   "metadata": {
    "colab": {
     "base_uri": "https://localhost:8080/"
    },
    "id": "37fa87c1-e468-4699-be0d-7067d59df038",
    "outputId": "14bae109-158f-4a86-c012-4f5b981ca887"
   },
   "outputs": [
    {
     "name": "stderr",
     "output_type": "stream",
     "text": [
      "/usr/local/lib/python3.11/dist-packages/langchain_openai/chat_models/base.py:1390: UserWarning: Cannot use method='json_schema' with model gpt-3.5-turbo since it doesn't support OpenAI's Structured Output API. You can see supported models here: https://platform.openai.com/docs/guides/structured-outputs#supported-models. To fix this warning, set `method='function_calling'. Overriding to method='function_calling'.\n",
      "  warnings.warn(\n"
     ]
    }
   ],
   "source": [
    "from langchain_experimental.graph_transformers import LLMGraphTransformer\n",
    "\n",
    "llm_transformer = LLMGraphTransformer(llm=llm)"
   ]
  },
  {
   "cell_type": "code",
   "execution_count": 21,
   "id": "1d47d5a8-fd09-4ed8-acfb-2092408fd4ef",
   "metadata": {
    "id": "1d47d5a8-fd09-4ed8-acfb-2092408fd4ef"
   },
   "outputs": [],
   "source": [
    "from langchain_core.documents import Document\n",
    "\n",
    "text_1 = \"\"\"\n",
    "Marie Curie, born in 1867, was a Polish and naturalised-French physicist and chemist who conducted pioneering research on radioactivity.\n",
    "She was the first woman to win a Nobel Prize, the first person to win a Nobel Prize twice, and the only person to win a Nobel Prize in two scientific fields.\n",
    "Her husband, Pierre Curie, was a co-winner of her first Nobel Prize, making them the first-ever married couple to win the Nobel Prize and launching the Curie family legacy of five Nobel Prizes.\n",
    "She was, in 1906, the first woman to become a professor at the University of Paris.\n",
    "\"\"\"\n",
    "\n",
    "text_2 = \"\"\"\n",
    "Alan Turing, born in 1912, was a British mathematician, logician, and cryptanalyst who played a crucial role in breaking the German Enigma code during World War II.\n",
    "He is widely considered the father of theoretical computer science and artificial intelligence.\n",
    "His work laid the foundation for modern computing, and the Turing Test remains a benchmark for AI intelligence.\n",
    "Despite his contributions, he was persecuted for his homosexuality and posthumously received a royal pardon in 2013.\n",
    "\"\"\"\n",
    "\n",
    "text_3 = \"\"\"\n",
    "Ada Lovelace, born in 1815, was an English mathematician and writer, best known for her work on Charles Babbage’s early mechanical general-purpose computer, the Analytical Engine.\n",
    "She is often regarded as the first computer programmer for her pioneering notes on algorithms that could be processed by a machine.\n",
    "Her insights extended beyond simple calculations, envisioning computers as capable of handling complex tasks like music composition.\n",
    "Her legacy continues to inspire women in STEM, and Ada Lovelace Day celebrates her contributions to computing.\n",
    "\"\"\"\n",
    "\n",
    "for chunk in [text_1, text_2, text_3]:\n",
    "    document = Document(page_content=chunk)\n",
    "\n",
    "    graph_doc = llm_transformer.process_response(document)\n",
    "\n",
    "    graph.add_graph_documents(\n",
    "        graph_documents=[graph_doc],\n",
    "        include_source=True,\n",
    "        graph_name=\"MyGraph\",\n",
    "        embeddings=embeddings,\n",
    "        embedding_field=\"embedding\",\n",
    "        embed_source=True,\n",
    "        embed_nodes=True,\n",
    "        embed_relationships=True,\n",
    "    )"
   ]
  },
  {
   "cell_type": "code",
   "execution_count": null,
   "id": "7621744d-6d78-44ca-a0cd-ab43f6ebe3a1",
   "metadata": {
    "colab": {
     "base_uri": "https://localhost:8080/"
    },
    "id": "7621744d-6d78-44ca-a0cd-ab43f6ebe3a1",
    "outputId": "37dc56b6-e7d0-48c9-fb7c-4ba230b5ebba"
   },
   "outputs": [
    {
     "name": "stdout",
     "output_type": "stream",
     "text": [
      "page_content='\n",
      "Ada Lovelace, born in 1815, was an English mathematician and writer, best known for her work on Charles Babbage’s early mechanical general-purpose computer, the Analytical Engine.\n",
      "She is often regarded as the first computer programmer for her pioneering notes on algorithms that could be processed by a machine.\n",
      "Her insights extended beyond simple calculations, envisioning computers as capable of handling complex tasks like music composition.\n",
      "Her legacy continues to inspire women in STEM, and Ada Lovelace Day celebrates her contributions to computing.\n",
      "'\n",
      "0.8389450394321321\n"
     ]
    }
   ],
   "source": [
    "# Option 1: Similarity Search on Chunks\n",
    "\n",
    "from langchain_community.vectorstores.arangodb_vector import ArangoVector\n",
    "\n",
    "vector_db = ArangoVector(\n",
    "    embedding=embeddings,\n",
    "    embedding_dimension=256,\n",
    "    database=db,\n",
    "    collection_name=\"MyGraph_SOURCE\",  # Similarity on Chunks (i.e Source documents)\n",
    "    embedding_field=\"embedding\",\n",
    "    text_field=\"text\",\n",
    ")\n",
    "\n",
    "result = vector_db.similarity_search_with_relevance_scores(\n",
    "    query=\"Who is Ada Lovelace?\",\n",
    "    k=1,\n",
    "    use_approx=False,  # Approximate Nearest Neighbor only supported in >= 3.12.4\n",
    ")[0]\n",
    "\n",
    "document, score = result\n",
    "\n",
    "print(document)\n",
    "print(score)"
   ]
  },
  {
   "cell_type": "code",
   "execution_count": 43,
   "id": "n6vxVYNrUPJc",
   "metadata": {
    "colab": {
     "base_uri": "https://localhost:8080/"
    },
    "id": "n6vxVYNrUPJc",
    "outputId": "073d7e85-44f4-4bec-9171-cae4ffded370"
   },
   "outputs": [
    {
     "name": "stdout",
     "output_type": "stream",
     "text": [
      "12157092465195988495 Mathematician 0.9368022244680257\n",
      "11002426697490865248 Physicist 0.5846517081010337\n",
      "1204676489986466130 Alan Turing 0.47424045930427766\n",
      "8721508686425501130 Chemist 0.45148191153882994\n",
      "4777130905068023973 Logician 0.4398502690955969\n"
     ]
    }
   ],
   "source": [
    "# Option 2: Similarity Search on Nodes\n",
    "\n",
    "from langchain_community.vectorstores.arangodb_vector import ArangoVector\n",
    "\n",
    "vector_db = ArangoVector(\n",
    "    embedding=embeddings,\n",
    "    embedding_dimension=256,\n",
    "    database=db,\n",
    "    collection_name=\"MyGraph_ENTITY\",\n",
    "    embedding_field=\"embedding\",\n",
    "    text_field=\"name\",\n",
    ")\n",
    "\n",
    "result = vector_db.similarity_search_with_relevance_scores(\n",
    "    query=\"mathematician\",\n",
    "    k=5,\n",
    "    use_approx=False,  # Approximate Nearest Neighbor only supported in >= 3.12.4\n",
    ")\n",
    "\n",
    "for r in result:\n",
    "    print(r[0].id, r[0].page_content, r[1])"
   ]
  },
  {
   "cell_type": "code",
   "execution_count": 45,
   "id": "RI-nB-2pU8pG",
   "metadata": {
    "colab": {
     "base_uri": "https://localhost:8080/"
    },
    "id": "RI-nB-2pU8pG",
    "outputId": "8775ed17-d8ba-4937-c4a2-b4416efca2e9"
   },
   "outputs": [
    {
     "name": "stdout",
     "output_type": "stream",
     "text": [
      "Marie Curie NATIONALITY French 0.850415409765681\n",
      "Marie Curie NATIONALITY Polish 0.8139104682558209\n",
      "Marie Curie BORN_IN 1867 0.7649211608959867\n",
      "Marie Curie MARRIED_TO Pierre Curie 0.7058500527972313\n",
      "Marie Curie PROFESSION Chemist 0.698266397213545\n"
     ]
    }
   ],
   "source": [
    "# Option 3: Similarity Search on Relationships\n",
    "\n",
    "from langchain_community.vectorstores.arangodb_vector import ArangoVector\n",
    "\n",
    "vector_db = ArangoVector(\n",
    "    embedding=embeddings,\n",
    "    embedding_dimension=256,\n",
    "    database=db,\n",
    "    collection_name=\"MyGraph_LINKS_TO\",\n",
    "    embedding_field=\"embedding\",\n",
    "    text_field=\"type\",\n",
    ")\n",
    "\n",
    "result = vector_db.similarity_search_with_relevance_scores(\n",
    "    query=\"What is the nationality of Marie Curie?\",\n",
    "    k=5,\n",
    "    use_approx=False,  # Approximate Nearest Neighbor only supported in >= 3.12.4\n",
    ")\n",
    "\n",
    "for r in result:\n",
    "    edge = db.document(f\"MyGraph_LINKS_TO/{r[0].id}\")\n",
    "    src_node = db.document(edge[\"_from\"])\n",
    "    dst_node = db.document(edge[\"_to\"])\n",
    "\n",
    "    print(f\"{src_node['name']} {edge['type']} {dst_node['name']}\", r[1])"
   ]
  },
  {
   "cell_type": "markdown",
   "id": "4884d89d",
   "metadata": {},
   "source": [
    "**Note**: Using Approximate Nearest Neighbors (ANN) for similarity search is recommended for large datasets, and is supported in ArangoDB as of version 3.12.4. Read more here: https://arangodb.com/2024/11/vector-search-in-arangodb-practical-insights-and-hands-on-examples/"
   ]
  }
 ],
 "metadata": {
  "colab": {
   "collapsed_sections": [
    "995ea9b9",
    "68a3c677",
    "Ob_3aGauGd7d",
    "61ff110b-ddac-4b28-85e4-8c9c8092bac0"
   ],
   "provenance": []
  },
  "kernelspec": {
   "display_name": "Python 3 (ipykernel)",
   "language": "python",
   "name": "python3"
  },
  "language_info": {
   "codemirror_mode": {
    "name": "ipython",
    "version": 3
   },
   "file_extension": ".py",
   "mimetype": "text/x-python",
   "name": "python",
   "nbconvert_exporter": "python",
   "pygments_lexer": "ipython3",
   "version": "3.11.6"
  }
 },
 "nbformat": 4,
 "nbformat_minor": 5
}
